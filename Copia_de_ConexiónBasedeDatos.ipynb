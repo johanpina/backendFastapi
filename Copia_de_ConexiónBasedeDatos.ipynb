{
  "nbformat": 4,
  "nbformat_minor": 0,
  "metadata": {
    "colab": {
      "provenance": []
    },
    "kernelspec": {
      "name": "python3",
      "display_name": "Python 3"
    },
    "language_info": {
      "name": "python"
    }
  },
  "cells": [
    {
      "cell_type": "markdown",
      "source": [
        "# Conexión a base de datos y ORMs en python"
      ],
      "metadata": {
        "id": "yn_V4MAjVjMG"
      }
    },
    {
      "cell_type": "markdown",
      "source": [
        "### Configuremos las librerías que vamos a utilizar"
      ],
      "metadata": {
        "id": "482SDsRhV9R1"
      }
    },
    {
      "cell_type": "code",
      "execution_count": null,
      "metadata": {
        "id": "uYJI8-eewtAQ",
        "colab": {
          "base_uri": "https://localhost:8080/"
        },
        "outputId": "76ede962-2d90-4324-abb0-456b0acb75d2"
      },
      "outputs": [
        {
          "output_type": "stream",
          "name": "stdout",
          "text": [
            "Looking in indexes: https://pypi.org/simple, https://us-python.pkg.dev/colab-wheels/public/simple/\n",
            "Requirement already satisfied: psycopg2 in /usr/local/lib/python3.8/dist-packages (2.9.5)\n"
          ]
        }
      ],
      "source": [
        "#Instalamos el paquete para manejo de conexiones entre la base de datos y la aplicacion. \n",
        "!pip install psycopg2"
      ]
    },
    {
      "cell_type": "code",
      "source": [
        "#indentificamos la IP pública\n",
        "!curl ifconfig.me\n"
      ],
      "metadata": {
        "colab": {
          "base_uri": "https://localhost:8080/"
        },
        "id": "NMMpMku3V9Ct",
        "outputId": "69cf90ed-e97d-4cc0-dda8-6a7767d240ce"
      },
      "execution_count": null,
      "outputs": [
        {
          "output_type": "stream",
          "name": "stdout",
          "text": [
            "34.73.156.111"
          ]
        }
      ]
    },
    {
      "cell_type": "markdown",
      "source": [
        "#### Conectemos la base de datos postgres y populemos algunas tablas"
      ],
      "metadata": {
        "id": "S4aM72dYWKRs"
      }
    },
    {
      "cell_type": "code",
      "source": [
        "import psycopg2"
      ],
      "metadata": {
        "id": "s9vL-_R1a6rD"
      },
      "execution_count": null,
      "outputs": []
    },
    {
      "cell_type": "code",
      "source": [
        "conexion = psycopg2.connect(host=\"35.238.120.175\", user=\"postgres\", password=\"admin123\")"
      ],
      "metadata": {
        "id": "ql3lalx-cTbw"
      },
      "execution_count": null,
      "outputs": []
    },
    {
      "cell_type": "code",
      "source": [
        "cur = conexion.cursor()\n",
        "cur.execute(\"CREATE TABLE mi_tabla2 (id SERIAL PRIMARY KEY, nombre VARCHAR(50), edad INTEGER, email VARCHAR(100))\")\n",
        "conexion.commit()\n",
        "conexion.close()"
      ],
      "metadata": {
        "id": "yxisEGBwc7qA"
      },
      "execution_count": null,
      "outputs": []
    },
    {
      "cell_type": "markdown",
      "source": [
        "#### Populemos la tabla con algunos datos."
      ],
      "metadata": {
        "id": "VI3BwRbiWiIP"
      }
    },
    {
      "cell_type": "code",
      "source": [
        "conexion = psycopg2.connect(host=\"35.238.120.175\", user=\"postgres\", password=\"admin123\")"
      ],
      "metadata": {
        "id": "4JZyCrkOWgzr"
      },
      "execution_count": null,
      "outputs": []
    },
    {
      "cell_type": "code",
      "source": [
        "cur = conexion.cursor()\n",
        "cur.execute(\"INSERT INTO mi_tabla2 (nombre, edad, email) VALUES ('Juan', 25, 'juan@mail.com'), ('Ana', 33, 'ana@mail.com'), ('Pedro', 45, 'pedro@mail.com'), ('Sofía', 29, 'sofia@mail.com'), ('Luis', 38, 'luis@mail.com'), ('María', 27, 'maria@mail.com'), ('Carlos', 42, 'carlos@mail.com'), ('Laura', 31, 'laura@mail.com')\")\n",
        "conexion.close()"
      ],
      "metadata": {
        "id": "geDyt-xDdmN6"
      },
      "execution_count": null,
      "outputs": []
    },
    {
      "cell_type": "markdown",
      "source": [
        "#### Hagamos una query básica para probar que los datos queden registrados"
      ],
      "metadata": {
        "id": "35zkHJ8zZOEU"
      }
    },
    {
      "cell_type": "code",
      "source": [
        "conexion = psycopg2.connect(host=\"35.238.120.175\", user=\"postgres\", password=\"admin123\")\n",
        "cur = conexion.cursor()\n",
        "cur.execute(\"SELECT * FROM mi_tabla2\")\n",
        "for data in cur:\n",
        "  print(cur)\n",
        "conexion.close()"
      ],
      "metadata": {
        "id": "hcTuzdbRWc1t"
      },
      "execution_count": null,
      "outputs": []
    },
    {
      "cell_type": "markdown",
      "source": [
        "##### Probemos realizando el commit de las transacciones"
      ],
      "metadata": {
        "id": "V-nTdxrra2Dp"
      }
    },
    {
      "cell_type": "code",
      "source": [
        "conexion = psycopg2.connect(host=\"35.238.120.175\", user=\"postgres\", password=\"admin123\")\n",
        "cur = conexion.cursor()\n",
        "cur.execute(\"INSERT INTO mi_tabla2 (nombre, edad, email) VALUES ('Juan', 25, 'juan@mail.com'), ('Ana', 33, 'ana@mail.com'), ('Pedro', 45, 'pedro@mail.com'), ('Sofía', 29, 'sofia@mail.com'), ('Luis', 38, 'luis@mail.com'), ('María', 27, 'maria@mail.com'), ('Carlos', 42, 'carlos@mail.com'), ('Laura', 31, 'laura@mail.com')\")\n",
        "conexion.commit()\n",
        "conexion.close()"
      ],
      "metadata": {
        "id": "RU3FPpS8avcT"
      },
      "execution_count": null,
      "outputs": []
    },
    {
      "cell_type": "code",
      "source": [
        "conexion = psycopg2.connect(host=\"35.238.120.175\", user=\"postgres\", password=\"admin123\")\n",
        "cur = conexion.cursor()\n",
        "cur.execute(\"SELECT * FROM mi_tabla2\")\n",
        "\n",
        "registros = cur.fetchall()\n",
        "\n",
        "for row in registros:\n",
        "  print(row)\n",
        "\n",
        "conexion.close()"
      ],
      "metadata": {
        "colab": {
          "base_uri": "https://localhost:8080/"
        },
        "id": "BXjq8SmQZkvx",
        "outputId": "7254d941-16fd-405c-ee62-b45eb817cf8e"
      },
      "execution_count": null,
      "outputs": [
        {
          "output_type": "stream",
          "name": "stdout",
          "text": [
            "(9, 'Juan', 25, 'juan@mail.com')\n",
            "(10, 'Ana', 33, 'ana@mail.com')\n",
            "(11, 'Pedro', 45, 'pedro@mail.com')\n",
            "(12, 'Sofía', 29, 'sofia@mail.com')\n",
            "(13, 'Luis', 38, 'luis@mail.com')\n",
            "(14, 'María', 27, 'maria@mail.com')\n",
            "(15, 'Carlos', 42, 'carlos@mail.com')\n",
            "(16, 'Laura', 31, 'laura@mail.com')\n"
          ]
        }
      ]
    },
    {
      "cell_type": "markdown",
      "source": [
        "#### Ahora populemos la base de datos desde un archivo"
      ],
      "metadata": {
        "id": "6yF2nNXgeM_7"
      }
    },
    {
      "cell_type": "code",
      "source": [
        "from google.colab import drive\n",
        "drive.mount('/content/gdrive')"
      ],
      "metadata": {
        "colab": {
          "base_uri": "https://localhost:8080/"
        },
        "id": "QWWjg_cugzAa",
        "outputId": "445aa84e-da7d-4712-ca1f-a18199f79aba"
      },
      "execution_count": null,
      "outputs": [
        {
          "output_type": "stream",
          "name": "stdout",
          "text": [
            "Mounted at /content/gdrive\n"
          ]
        }
      ]
    },
    {
      "cell_type": "code",
      "source": [
        "def get_connection():\n",
        "  return psycopg2.connect(host=\"35.238.120.175\", user=\"postgres\", password=\"admin123\")\n",
        "\n",
        "\n",
        "def insert_register(user):\n",
        "  conn = get_connection()\n",
        "  query = \"INSERT INTO mi_tabla2 (nombre, edad, email) VALUES (%s, %s, %s)\"\n",
        "  cur = conn.cursor()\n",
        "  param = (user['nombre'],user['edad'],user['email'])\n",
        "  cur.execute(query,param)\n",
        "  conn.commit()\n",
        "  conn.close()\n",
        "\n",
        "user= {'nombre':'Johan', 'edad':23, 'email':'johan@gmail.com'  }\n",
        "insert_register(user)"
      ],
      "metadata": {
        "id": "4VtXwxFybZ6B"
      },
      "execution_count": null,
      "outputs": []
    },
    {
      "cell_type": "code",
      "source": [
        "### ACÁ VA EL CÓDIGO\n",
        "import pandas as pd\n",
        "\n",
        "users = pd.read_csv('/content/gdrive/MyDrive/data.csv')\n",
        "users.head(5)\n",
        "\n",
        "for index, user in users.iterrows():\n",
        "  print(user.to_dict())\n",
        "  insert_register(user)\n",
        "\n",
        "###"
      ],
      "metadata": {
        "colab": {
          "base_uri": "https://localhost:8080/"
        },
        "id": "6TvQmaqcfz4P",
        "outputId": "1cbeec59-51bd-4455-b2c4-0d8710b2627f"
      },
      "execution_count": null,
      "outputs": [
        {
          "output_type": "stream",
          "name": "stdout",
          "text": [
            "{'nombre': 'Juan', 'edad': 25, 'email': 'juan@mail.com'}\n",
            "{'nombre': 'Ana', 'edad': 33, 'email': 'ana@mail.com'}\n",
            "{'nombre': 'Pedro', 'edad': 45, 'email': 'pedro@mail.com'}\n",
            "{'nombre': 'Sofía', 'edad': 29, 'email': 'sofia@mail.com'}\n",
            "{'nombre': 'Luis', 'edad': 38, 'email': 'luis@mail.com'}\n",
            "{'nombre': 'María', 'edad': 27, 'email': 'maria@mail.com'}\n",
            "{'nombre': 'Carlos', 'edad': 42, 'email': 'carlos@mail.com'}\n",
            "{'nombre': 'Laura', 'edad': 31, 'email': 'laura@mail.com'}\n",
            "{'nombre': 'Lucas', 'edad': 26, 'email': 'lucas@mail.com'}\n",
            "{'nombre': 'Mónica', 'edad': 39, 'email': 'monica@mail.com'}\n",
            "{'nombre': 'Andrés', 'edad': 36, 'email': 'andres@mail.com'}\n",
            "{'nombre': 'Lucía', 'edad': 28, 'email': 'lucia@mail.com'}\n",
            "{'nombre': 'Federico', 'edad': 47, 'email': 'federico@mail.com'}\n",
            "{'nombre': 'Isabel', 'edad': 32, 'email': 'isabel@mail.com'}\n",
            "{'nombre': 'Ricardo', 'edad': 43, 'email': 'ricardo@mail.com'}\n",
            "{'nombre': 'Gabriela', 'edad': 30, 'email': 'gabriela@mail.com'}\n",
            "{'nombre': 'Felipe', 'edad': 41, 'email': 'felipe@mail.com'}\n",
            "{'nombre': 'Alejandra', 'edad': 34, 'email': 'alejandra@mail.com'}\n",
            "{'nombre': 'Diego', 'edad': 37, 'email': 'diego@mail.com'}\n",
            "{'nombre': 'Patricia', 'edad': 35, 'email': 'patricia@mail.com'}\n",
            "{'nombre': 'Roberto', 'edad': 44, 'email': 'roberto@mail.com'}\n",
            "{'nombre': 'Daniela', 'edad': 23, 'email': 'daniela@mail.com'}\n",
            "{'nombre': 'Jorge', 'edad': 46, 'email': 'jorge@mail.com'}\n",
            "{'nombre': 'Gloria', 'edad': 40, 'email': 'gloria@mail.com'}\n",
            "{'nombre': 'Manuel', 'edad': 30, 'email': 'manuel@mail.com'}\n",
            "{'nombre': 'Victoria', 'edad': 29, 'email': 'victoria@mail.com'}\n",
            "{'nombre': 'Héctor', 'edad': 38, 'email': 'hector@mail.com'}\n",
            "{'nombre': 'Carmen', 'edad': 33, 'email': 'carmen@mail.com'}\n",
            "{'nombre': 'Raúl', 'edad': 27, 'email': 'raul@mail.com'}\n",
            "{'nombre': 'Adriana', 'edad': 31, 'email': 'adriana@mail.com'}\n",
            "{'nombre': 'Mario', 'edad': 49, 'email': 'mario@mail.com'}\n",
            "{'nombre': 'Silvia', 'edad': 28, 'email': 'silvia@mail.com'}\n",
            "{'nombre': 'Guillermo', 'edad': 43, 'email': 'guillermo@mail.com'}\n",
            "{'nombre': 'Natalia', 'edad': 36, 'email': 'natalia@mail.com'}\n",
            "{'nombre': 'Wendy', 'edad': 28, 'email': 'wstark1x@prnewswire.com'}\n",
            "{'nombre': 'Stephanie', 'edad': 36, 'email': 'scolbert1y@utexas.edu'}\n",
            "{'nombre': 'Matthew', 'edad': 46, 'email': 'mwade1z@foxnews.com'}\n",
            "{'nombre': 'Pamela', 'edad': 28, 'email': 'pgeorge20@list-manage.com'}\n",
            "{'nombre': 'Jonathan', 'edad': 28, 'email': 'jperryman21@buzzfeed.com'}\n",
            "{'nombre': 'Jonathan', 'edad': 47, 'email': 'jackroyd22@yellowpages.com'}\n",
            "{'nombre': 'Tina', 'edad': 50, 'email': 'tcunningham23@pinterest.com'}\n",
            "{'nombre': 'John', 'edad': 25, 'email': 'jperez24@multiply.com'}\n",
            "{'nombre': 'Judith', 'edad': 31, 'email': 'jweston25@skyrock.com'}\n",
            "{'nombre': 'William', 'edad': 41, 'email': 'wgreene26@ucsd.edu'}\n",
            "{'nombre': 'Deborah', 'edad': 22, 'email': 'dbennett27@mit.edu'}\n",
            "{'nombre': 'Philip', 'edad': 34, 'email': 'pharper28@npr.org'}\n",
            "{'nombre': 'Wanda', 'edad': 47, 'email': 'wjones29@icq.com'}\n",
            "{'nombre': 'Heather', 'edad': 27, 'email': 'hfoster2a@cnbc.com'}\n",
            "{'nombre': 'Evelyn', 'edad': 46, 'email': 'ebutler2b@europa.eu'}\n",
            "{'nombre': 'Dennis', 'edad': 31, 'email': 'djordan2c@cocolog-nifty.com'}\n",
            "{'nombre': 'Keith', 'edad': 48, 'email': 'kcook2d@furl.net'}\n",
            "{'nombre': 'Brenda', 'edad': 28, 'email': 'bwalker2e@hibu.com'}\n",
            "{'nombre': 'Robert', 'edad': 34, 'email': 'rreid2f@mtv.com'}\n",
            "{'nombre': 'Anna', 'edad': 42, 'email': 'ahicks2g@umich.edu'}\n",
            "{'nombre': 'Ashley', 'edad': 23, 'email': 'abennett2h@cyberchimps.com'}\n",
            "{'nombre': 'Edward', 'edad': 28, 'email': 'ewood2i@nifty.com'}\n",
            "{'nombre': 'Jeffrey', 'edad': 27, 'email': 'jreynolds2j@ftc.gov'}\n",
            "{'nombre': 'Melissa', 'edad': 23, 'email': 'mrodriguez2k@storify.com'}\n",
            "{'nombre': 'Ralph', 'edad': 50, 'email': 'rschmidt2l@bizjournals.com'}\n",
            "{'nombre': 'Laura', 'edad': 27, 'email': 'lweaver2m@engadget.com'}\n",
            "{'nombre': 'Kathleen', 'edad': 43, 'email': 'kgibson2n@geocities.com'}\n",
            "{'nombre': 'Jose', 'edad': 39, 'email': 'jparker2o@godaddy.com'}\n"
          ]
        }
      ]
    },
    {
      "cell_type": "markdown",
      "source": [
        "### Hablemos de fastAPI"
      ],
      "metadata": {
        "id": "FaKCszp7ib01"
      }
    },
    {
      "cell_type": "code",
      "source": [
        "# pip install \"fastapi[all]\"\n",
        "\n",
        "\"\"\"\n",
        "fastapi[all]\n",
        "passlib[bcrypt]\n",
        "python-jose[cryptography]\n",
        "uvicorn[standard]\n",
        "\"\"\""
      ],
      "metadata": {
        "id": "iwtFx4iGhY7N"
      },
      "execution_count": null,
      "outputs": []
    }
  ]
}